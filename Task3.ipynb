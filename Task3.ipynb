{
  "nbformat": 4,
  "nbformat_minor": 0,
  "metadata": {
    "colab": {
      "provenance": []
    },
    "kernelspec": {
      "name": "python3",
      "display_name": "Python 3"
    },
    "language_info": {
      "name": "python"
    }
  },
  "cells": [
    {
      "cell_type": "code",
      "execution_count": null,
      "metadata": {
        "colab": {
          "base_uri": "https://localhost:8080/"
        },
        "id": "Mq3KsbIpc3Yi",
        "outputId": "06d8a177-6e25-4b2c-e8b5-971b79c183a7"
      },
      "outputs": [
        {
          "output_type": "stream",
          "name": "stdout",
          "text": [
            "Mounted at /content/drive\n"
          ]
        }
      ],
      "source": [
        "from google.colab import drive\n",
        "drive.mount('/content/drive')"
      ]
    },
    {
      "cell_type": "code",
      "source": [
        "! mkdir ~/.kaggle"
      ],
      "metadata": {
        "id": "wcig0u5WfKfu"
      },
      "execution_count": null,
      "outputs": []
    },
    {
      "cell_type": "code",
      "source": [
        "! cp /content/drive/MyDrive/KaggleAPI/kaggle.json  ~/.kaggle/"
      ],
      "metadata": {
        "id": "EXFqWX08fPQs",
        "colab": {
          "base_uri": "https://localhost:8080/"
        },
        "outputId": "49118c06-dd2d-4f72-962e-fb34a79378b1"
      },
      "execution_count": null,
      "outputs": [
        {
          "output_type": "stream",
          "name": "stdout",
          "text": [
            "cp: cannot stat '/content/drive/MyDrive/KaggleAPI/kaggle.json': No such file or directory\n"
          ]
        }
      ]
    },
    {
      "cell_type": "code",
      "source": [
        "! kaggle datasets download -d datasnaek/youtube-new"
      ],
      "metadata": {
        "colab": {
          "base_uri": "https://localhost:8080/"
        },
        "id": "un7_dOzXfRWN",
        "outputId": "238e96b9-51d4-4dc0-eb63-0132917c4aac"
      },
      "execution_count": null,
      "outputs": [
        {
          "output_type": "stream",
          "name": "stdout",
          "text": [
            "Traceback (most recent call last):\n",
            "  File \"/usr/local/bin/kaggle\", line 5, in <module>\n",
            "    from kaggle.cli import main\n",
            "  File \"/usr/local/lib/python3.10/dist-packages/kaggle/__init__.py\", line 23, in <module>\n",
            "    api.authenticate()\n",
            "  File \"/usr/local/lib/python3.10/dist-packages/kaggle/api/kaggle_api_extended.py\", line 403, in authenticate\n",
            "    raise IOError('Could not find {}. Make sure it\\'s located in'\n",
            "OSError: Could not find kaggle.json. Make sure it's located in /root/.kaggle. Or use the environment method.\n"
          ]
        }
      ]
    },
    {
      "cell_type": "code",
      "source": [
        "! unzip /content/youtube-new.zip"
      ],
      "metadata": {
        "colab": {
          "base_uri": "https://localhost:8080/"
        },
        "id": "6Ar62l04fTnd",
        "outputId": "47e5e011-2bab-4c87-f9da-d61af1c54159"
      },
      "execution_count": null,
      "outputs": [
        {
          "output_type": "stream",
          "name": "stdout",
          "text": [
            "unzip:  cannot find or open /content/youtube-new.zip, /content/youtube-new.zip.zip or /content/youtube-new.zip.ZIP.\n"
          ]
        }
      ]
    },
    {
      "cell_type": "code",
      "source": [
        "import pandas as pd\n",
        "import numpy as np"
      ],
      "metadata": {
        "id": "kPQ4g-COfb40"
      },
      "execution_count": null,
      "outputs": []
    },
    {
      "cell_type": "code",
      "source": [
        "vids = pd.read_csv('USvideos.csv')"
      ],
      "metadata": {
        "id": "qzftdehFfcsU"
      },
      "execution_count": null,
      "outputs": []
    },
    {
      "cell_type": "code",
      "source": [
        "print(vids.dtypes)"
      ],
      "metadata": {
        "colab": {
          "base_uri": "https://localhost:8080/"
        },
        "id": "AX34IjbCjeeN",
        "outputId": "b27befb3-507e-41f5-b74b-31db8460bece"
      },
      "execution_count": null,
      "outputs": [
        {
          "output_type": "stream",
          "name": "stdout",
          "text": [
            "video_id                  object\n",
            "trending_date             object\n",
            "title                     object\n",
            "channel_title             object\n",
            "category_id                int64\n",
            "publish_time              object\n",
            "tags                      object\n",
            "views                      int64\n",
            "likes                      int64\n",
            "dislikes                   int64\n",
            "comment_count              int64\n",
            "thumbnail_link            object\n",
            "comments_disabled           bool\n",
            "ratings_disabled            bool\n",
            "video_error_or_removed      bool\n",
            "description               object\n",
            "dtype: object\n"
          ]
        }
      ]
    },
    {
      "cell_type": "code",
      "source": [
        "data_types = vids.dtypes\n",
        "\n",
        "attribute_types = {\n",
        "    'object': 'nominal',\n",
        "    'int64': 'ordinal',\n",
        "    'float64': 'interval',\n",
        "    'bool': 'nominal'\n",
        "}\n",
        "\n",
        "vids_attribute_types = {}\n",
        "\n",
        "for column, data_type in data_types.items():\n",
        "    vids_attribute_types[column] = attribute_types[str(data_type)]\n",
        "\n",
        "print(vids_attribute_types)\n"
      ],
      "metadata": {
        "colab": {
          "base_uri": "https://localhost:8080/"
        },
        "id": "i3FjPO0t_T5Z",
        "outputId": "b8816bf7-d52e-46ff-8248-3bda626149ef"
      },
      "execution_count": 28,
      "outputs": [
        {
          "output_type": "stream",
          "name": "stdout",
          "text": [
            "{'video_id': 'nominal', 'trending_date': 'nominal', 'title': 'nominal', 'channel_title': 'nominal', 'category_id': 'ordinal', 'publish_time': 'nominal', 'tags': 'nominal', 'views': 'ordinal', 'likes': 'ordinal', 'dislikes': 'ordinal', 'comment_count': 'ordinal', 'thumbnail_link': 'nominal', 'comments_disabled': 'nominal', 'ratings_disabled': 'nominal', 'video_error_or_removed': 'nominal', 'description': 'nominal'}\n"
          ]
        }
      ]
    },
    {
      "cell_type": "code",
      "source": [
        "for column, data_type in data_types.items():\n",
        "  if data_type == 'object':\n",
        "\n",
        "    unique_values = vids[column].unique()\n",
        "    if len(unique_values) <= 10:\n",
        "      attribute_types[column] = 'nominal'\n",
        "    else:\n",
        "      attribute_types[column] = 'ordinal'\n",
        "  elif data_type in ['int64', 'float64']:\n",
        "    attribute_types[column] = 'quantitative'\n",
        "\n",
        "print(attribute_types)"
      ],
      "metadata": {
        "colab": {
          "base_uri": "https://localhost:8080/"
        },
        "id": "_RhKrK4XM4Ex",
        "outputId": "9e588566-cfcc-45a5-9a64-98f6fdcf2c20"
      },
      "execution_count": 27,
      "outputs": [
        {
          "output_type": "stream",
          "name": "stdout",
          "text": [
            "{'object': 'nominal', 'int64': 'ordinal', 'float64': 'interval', 'bool': 'nominal', 'video_id': 'ordinal', 'trending_date': 'ordinal', 'title': 'ordinal', 'channel_title': 'ordinal', 'category_id': 'quantitative', 'publish_time': 'ordinal', 'tags': 'ordinal', 'views': 'quantitative', 'likes': 'quantitative', 'dislikes': 'quantitative', 'comment_count': 'quantitative', 'thumbnail_link': 'ordinal', 'description': 'ordinal'}\n"
          ]
        }
      ]
    }
  ]
}