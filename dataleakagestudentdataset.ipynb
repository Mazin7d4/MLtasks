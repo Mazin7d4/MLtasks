{
  "nbformat": 4,
  "nbformat_minor": 0,
  "metadata": {
    "colab": {
      "provenance": [],
      "authorship_tag": "ABX9TyOmX4GoV1GZbU5D+uJJlSOx"
    },
    "kernelspec": {
      "name": "python3",
      "display_name": "Python 3"
    },
    "language_info": {
      "name": "python"
    }
  },
  "cells": [
    {
      "cell_type": "code",
      "execution_count": 6,
      "metadata": {
        "id": "FH11l7lVcUPP"
      },
      "outputs": [],
      "source": [
        "from sklearn.model_selection import train_test_split\n",
        "from sklearn.tree import DecisionTreeClassifier\n",
        "from sklearn.metrics import accuracy_score\n",
        "import pandas as pd"
      ]
    },
    {
      "cell_type": "code",
      "source": [
        "data = pd.read_csv(\"student_dataset.csv\")"
      ],
      "metadata": {
        "id": "fimfCWKLcjNc"
      },
      "execution_count": 7,
      "outputs": []
    },
    {
      "cell_type": "code",
      "source": [
        "# Separate the features and the target variable\n",
        "features = data.drop('Label', axis=1)\n",
        "target = data['Label']"
      ],
      "metadata": {
        "id": "W8F3Gm9UckNa"
      },
      "execution_count": 8,
      "outputs": []
    },
    {
      "cell_type": "code",
      "source": [
        "# Split the data into training and testing sets\n",
        "X_train, X_test, y_train, y_test = train_test_split(features, target, test_size=0.2, random_state=42)"
      ],
      "metadata": {
        "id": "fbCaXluFc5rU"
      },
      "execution_count": 9,
      "outputs": []
    },
    {
      "cell_type": "code",
      "source": [
        "# Initialize and train a Decision Tree Classifier\n",
        "clf = DecisionTreeClassifier()\n",
        "clf.fit(X_train, y_train)"
      ],
      "metadata": {
        "colab": {
          "base_uri": "https://localhost:8080/",
          "height": 75
        },
        "id": "WE9PmquMc85Z",
        "outputId": "177ee881-332e-456e-fce9-7881f3803cae"
      },
      "execution_count": 10,
      "outputs": [
        {
          "output_type": "execute_result",
          "data": {
            "text/plain": [
              "DecisionTreeClassifier()"
            ],
            "text/html": [
              "<style>#sk-container-id-1 {color: black;background-color: white;}#sk-container-id-1 pre{padding: 0;}#sk-container-id-1 div.sk-toggleable {background-color: white;}#sk-container-id-1 label.sk-toggleable__label {cursor: pointer;display: block;width: 100%;margin-bottom: 0;padding: 0.3em;box-sizing: border-box;text-align: center;}#sk-container-id-1 label.sk-toggleable__label-arrow:before {content: \"▸\";float: left;margin-right: 0.25em;color: #696969;}#sk-container-id-1 label.sk-toggleable__label-arrow:hover:before {color: black;}#sk-container-id-1 div.sk-estimator:hover label.sk-toggleable__label-arrow:before {color: black;}#sk-container-id-1 div.sk-toggleable__content {max-height: 0;max-width: 0;overflow: hidden;text-align: left;background-color: #f0f8ff;}#sk-container-id-1 div.sk-toggleable__content pre {margin: 0.2em;color: black;border-radius: 0.25em;background-color: #f0f8ff;}#sk-container-id-1 input.sk-toggleable__control:checked~div.sk-toggleable__content {max-height: 200px;max-width: 100%;overflow: auto;}#sk-container-id-1 input.sk-toggleable__control:checked~label.sk-toggleable__label-arrow:before {content: \"▾\";}#sk-container-id-1 div.sk-estimator input.sk-toggleable__control:checked~label.sk-toggleable__label {background-color: #d4ebff;}#sk-container-id-1 div.sk-label input.sk-toggleable__control:checked~label.sk-toggleable__label {background-color: #d4ebff;}#sk-container-id-1 input.sk-hidden--visually {border: 0;clip: rect(1px 1px 1px 1px);clip: rect(1px, 1px, 1px, 1px);height: 1px;margin: -1px;overflow: hidden;padding: 0;position: absolute;width: 1px;}#sk-container-id-1 div.sk-estimator {font-family: monospace;background-color: #f0f8ff;border: 1px dotted black;border-radius: 0.25em;box-sizing: border-box;margin-bottom: 0.5em;}#sk-container-id-1 div.sk-estimator:hover {background-color: #d4ebff;}#sk-container-id-1 div.sk-parallel-item::after {content: \"\";width: 100%;border-bottom: 1px solid gray;flex-grow: 1;}#sk-container-id-1 div.sk-label:hover label.sk-toggleable__label {background-color: #d4ebff;}#sk-container-id-1 div.sk-serial::before {content: \"\";position: absolute;border-left: 1px solid gray;box-sizing: border-box;top: 0;bottom: 0;left: 50%;z-index: 0;}#sk-container-id-1 div.sk-serial {display: flex;flex-direction: column;align-items: center;background-color: white;padding-right: 0.2em;padding-left: 0.2em;position: relative;}#sk-container-id-1 div.sk-item {position: relative;z-index: 1;}#sk-container-id-1 div.sk-parallel {display: flex;align-items: stretch;justify-content: center;background-color: white;position: relative;}#sk-container-id-1 div.sk-item::before, #sk-container-id-1 div.sk-parallel-item::before {content: \"\";position: absolute;border-left: 1px solid gray;box-sizing: border-box;top: 0;bottom: 0;left: 50%;z-index: -1;}#sk-container-id-1 div.sk-parallel-item {display: flex;flex-direction: column;z-index: 1;position: relative;background-color: white;}#sk-container-id-1 div.sk-parallel-item:first-child::after {align-self: flex-end;width: 50%;}#sk-container-id-1 div.sk-parallel-item:last-child::after {align-self: flex-start;width: 50%;}#sk-container-id-1 div.sk-parallel-item:only-child::after {width: 0;}#sk-container-id-1 div.sk-dashed-wrapped {border: 1px dashed gray;margin: 0 0.4em 0.5em 0.4em;box-sizing: border-box;padding-bottom: 0.4em;background-color: white;}#sk-container-id-1 div.sk-label label {font-family: monospace;font-weight: bold;display: inline-block;line-height: 1.2em;}#sk-container-id-1 div.sk-label-container {text-align: center;}#sk-container-id-1 div.sk-container {/* jupyter's `normalize.less` sets `[hidden] { display: none; }` but bootstrap.min.css set `[hidden] { display: none !important; }` so we also need the `!important` here to be able to override the default hidden behavior on the sphinx rendered scikit-learn.org. See: https://github.com/scikit-learn/scikit-learn/issues/21755 */display: inline-block !important;position: relative;}#sk-container-id-1 div.sk-text-repr-fallback {display: none;}</style><div id=\"sk-container-id-1\" class=\"sk-top-container\"><div class=\"sk-text-repr-fallback\"><pre>DecisionTreeClassifier()</pre><b>In a Jupyter environment, please rerun this cell to show the HTML representation or trust the notebook. <br />On GitHub, the HTML representation is unable to render, please try loading this page with nbviewer.org.</b></div><div class=\"sk-container\" hidden><div class=\"sk-item\"><div class=\"sk-estimator sk-toggleable\"><input class=\"sk-toggleable__control sk-hidden--visually\" id=\"sk-estimator-id-1\" type=\"checkbox\" checked><label for=\"sk-estimator-id-1\" class=\"sk-toggleable__label sk-toggleable__label-arrow\">DecisionTreeClassifier</label><div class=\"sk-toggleable__content\"><pre>DecisionTreeClassifier()</pre></div></div></div></div></div>"
            ]
          },
          "metadata": {},
          "execution_count": 10
        }
      ]
    },
    {
      "cell_type": "code",
      "source": [
        "# Predict the labels for the test set\n",
        "y_pred = clf.predict(X_test)"
      ],
      "metadata": {
        "id": "zjeFgRTxc_Pa"
      },
      "execution_count": 11,
      "outputs": []
    },
    {
      "cell_type": "code",
      "source": [
        "# Calculate and print the accuracy score\n",
        "accuracy = accuracy_score(y_test, y_pred)\n",
        "print(f\"Accuracy: {accuracy:.2f}\")"
      ],
      "metadata": {
        "colab": {
          "base_uri": "https://localhost:8080/"
        },
        "id": "bYCvUaZPcmWj",
        "outputId": "465ceaa1-6b60-4d73-8224-68ad69f302ea"
      },
      "execution_count": 12,
      "outputs": [
        {
          "output_type": "stream",
          "name": "stdout",
          "text": [
            "Accuracy: 1.00\n"
          ]
        }
      ]
    },
    {
      "cell_type": "markdown",
      "source": [
        "---\n",
        "The dataset consists of features like Grades, Attendance, and Study Hours, with Label being the target variable.\n",
        "\n",
        "A Decision Tree classifier is trained on the dataset. Decision Trees are good at handling data that involves clear rules or thresholds.\n",
        "\n",
        "The accuracy on the test set is calculated, which turns out to be **100%**. This unusually high accuracy needs a check for underlying issues like overfitting or data leakage.\n",
        "\n",
        "\n",
        "\n"
      ],
      "metadata": {
        "id": "sdh_YNhjddUj"
      }
    },
    {
      "cell_type": "markdown",
      "source": [
        "Why 100% Accuracy Isn't Good Here?\n",
        "\n",
        "Although 100% accuracy might seem ideal, here it indicates a problem. It means our model isn't really learning from diverse features and won't perform well if we try to use it in real-world scenarios where it needs to make predictions based on more than just grades."
      ],
      "metadata": {
        "id": "mO8s-X6UeT0b"
      }
    },
    {
      "cell_type": "markdown",
      "source": [
        "**Overfitting**\n",
        "\n",
        "Overfitting happens when a model learns the details and noise in the training data to an extent that it negatively impacts the performance of the model on new data. It means the model is too complex for the amount of training data or features provided, capturing noise as if it were signal."
      ],
      "metadata": {
        "id": "r9Tf1htKfSmD"
      }
    },
    {
      "cell_type": "markdown",
      "source": [
        "**Data Leakage**\n",
        "\n",
        "Data leakage occurs when information that would not be available at prediction time is used during training.\n",
        "\n",
        "In our case, data leakage happens because the Label (our prediction target) is directly based on Grades. This means the label is not something that naturally occurs but is instead calculated from the grades. When a feature in the dataset dictates the target, the model doesn't have to learn anything complex; it just applies the rule.\n",
        "\n",
        "If Label is derived directly from Grades in such a way that specific thresholds on grades determine the label without ambiguity, its a clear case of data leakage. This is not about the model memorizing the data, but rather having access to information that makes learning the target trivial.\n",
        "\n",
        "---"
      ],
      "metadata": {
        "id": "egFhphA9fdCK"
      }
    },
    {
      "cell_type": "code",
      "source": [
        "# Visualizing the relationship between Grades and Labels to detect data leakage\n",
        "import seaborn as sns\n",
        "import matplotlib.pyplot as plt\n",
        "\n",
        "# Plotting the Grades against Labels\n",
        "plt.figure(figsize=(10, 6))\n",
        "sns.boxplot(x='Label', y='Grades', data=data)\n",
        "plt.title('Distribution of Grades by Label')\n",
        "plt.show()\n"
      ],
      "metadata": {
        "colab": {
          "base_uri": "https://localhost:8080/",
          "height": 564
        },
        "id": "BybgIDnNgC_s",
        "outputId": "2687b8ed-ea49-4060-e34f-19f0caba3eb7"
      },
      "execution_count": 14,
      "outputs": [
        {
          "output_type": "display_data",
          "data": {
            "text/plain": [
              "<Figure size 1000x600 with 1 Axes>"
            ],
            "image/png": "[encoded data removed]"
          },
          "metadata": {}
        }
      ]
    },
    {
      "cell_type": "markdown",
      "source": [
        "As the boxplot shows, each label corresponds to a distinct range of grades. This suggests that the labels are directly derived from the grades, leading to perfect predictability for the model."
      ],
      "metadata": {
        "id": "fcPR2WOtgwn7"
      }
    },
    {
      "cell_type": "markdown",
      "source": [
        "The feature importance showed that only the Grades feature was used by the model to perfectly predict the outcome, with other features like Attendance and Study Hours not contributing at all. This suggests that Grades directly determines the Label, which is a clear sign of data leakage.\n",
        "\n",
        "Even when I made the Decision Tree simpler by limiting its depth, the accuracy on the test set stayed at 100%. Usually, overfitting means the model does really well on training data but not as well on test data. If overfitting was the issue, making the model less complex would usually drop the accuracy.\n",
        "\n",
        "When I looked at the boxplot that shows how Grades spread out across different Label categories, I saw distinct and non-overlapping ranges for each category. This is a classic sign of data leakage, where the target variable (Label) can be perfectly predicted just from the Grades."
      ],
      "metadata": {
        "id": "5NnYkFhihpiL"
      }
    }
  ]
}